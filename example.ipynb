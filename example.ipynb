{
 "cells": [
  {
   "cell_type": "code",
   "execution_count": 1,
   "metadata": {},
   "outputs": [],
   "source": [
    "# pip install git2vec\n",
    "from git2vec import loader"
   ]
  },
  {
   "cell_type": "code",
   "execution_count": 30,
   "metadata": {},
   "outputs": [],
   "source": [
    "# using a random repo as an example\n",
    "repo_name = \"https://github.com/voynow/ESPN-fantasy-football-3\"\n",
    "\n",
    "# return a list of Document objects\n",
    "repo_data = loader.load(repo_name)\n",
    "\n",
    "# or return a string of all the raw text\n",
    "raw_repo = loader.load(repo_name, return_str=True)"
   ]
  },
  {
   "cell_type": "code",
   "execution_count": 3,
   "metadata": {},
   "outputs": [],
   "source": [
    "resp = loader.get_trending_repos()\n",
    "\n",
    "for reop in resp[\"items\"]:\n",
    "    loader.load(repo[\"clone_url\"])"
   ]
  },
  {
   "cell_type": "code",
   "execution_count": 9,
   "metadata": {},
   "outputs": [
    {
     "data": {
      "text/plain": [
       "{'id': 646480766,\n",
       " 'node_id': 'R_kgDOJoiDfg',\n",
       " 'name': 'roop',\n",
       " 'full_name': 's0md3v/roop',\n",
       " 'private': False,\n",
       " 'owner': {'login': 's0md3v',\n",
       "  'id': 26716802,\n",
       "  'node_id': 'MDQ6VXNlcjI2NzE2ODAy',\n",
       "  'avatar_url': 'https://avatars.githubusercontent.com/u/26716802?v=4',\n",
       "  'gravatar_id': '',\n",
       "  'url': 'https://api.github.com/users/s0md3v',\n",
       "  'html_url': 'https://github.com/s0md3v',\n",
       "  'followers_url': 'https://api.github.com/users/s0md3v/followers',\n",
       "  'following_url': 'https://api.github.com/users/s0md3v/following{/other_user}',\n",
       "  'gists_url': 'https://api.github.com/users/s0md3v/gists{/gist_id}',\n",
       "  'starred_url': 'https://api.github.com/users/s0md3v/starred{/owner}{/repo}',\n",
       "  'subscriptions_url': 'https://api.github.com/users/s0md3v/subscriptions',\n",
       "  'organizations_url': 'https://api.github.com/users/s0md3v/orgs',\n",
       "  'repos_url': 'https://api.github.com/users/s0md3v/repos',\n",
       "  'events_url': 'https://api.github.com/users/s0md3v/events{/privacy}',\n",
       "  'received_events_url': 'https://api.github.com/users/s0md3v/received_events',\n",
       "  'type': 'User',\n",
       "  'site_admin': False},\n",
       " 'html_url': 'https://github.com/s0md3v/roop',\n",
       " 'description': 'one-click deepfake (face swap)',\n",
       " 'fork': False,\n",
       " 'url': 'https://api.github.com/repos/s0md3v/roop',\n",
       " 'forks_url': 'https://api.github.com/repos/s0md3v/roop/forks',\n",
       " 'keys_url': 'https://api.github.com/repos/s0md3v/roop/keys{/key_id}',\n",
       " 'collaborators_url': 'https://api.github.com/repos/s0md3v/roop/collaborators{/collaborator}',\n",
       " 'teams_url': 'https://api.github.com/repos/s0md3v/roop/teams',\n",
       " 'hooks_url': 'https://api.github.com/repos/s0md3v/roop/hooks',\n",
       " 'issue_events_url': 'https://api.github.com/repos/s0md3v/roop/issues/events{/number}',\n",
       " 'events_url': 'https://api.github.com/repos/s0md3v/roop/events',\n",
       " 'assignees_url': 'https://api.github.com/repos/s0md3v/roop/assignees{/user}',\n",
       " 'branches_url': 'https://api.github.com/repos/s0md3v/roop/branches{/branch}',\n",
       " 'tags_url': 'https://api.github.com/repos/s0md3v/roop/tags',\n",
       " 'blobs_url': 'https://api.github.com/repos/s0md3v/roop/git/blobs{/sha}',\n",
       " 'git_tags_url': 'https://api.github.com/repos/s0md3v/roop/git/tags{/sha}',\n",
       " 'git_refs_url': 'https://api.github.com/repos/s0md3v/roop/git/refs{/sha}',\n",
       " 'trees_url': 'https://api.github.com/repos/s0md3v/roop/git/trees{/sha}',\n",
       " 'statuses_url': 'https://api.github.com/repos/s0md3v/roop/statuses/{sha}',\n",
       " 'languages_url': 'https://api.github.com/repos/s0md3v/roop/languages',\n",
       " 'stargazers_url': 'https://api.github.com/repos/s0md3v/roop/stargazers',\n",
       " 'contributors_url': 'https://api.github.com/repos/s0md3v/roop/contributors',\n",
       " 'subscribers_url': 'https://api.github.com/repos/s0md3v/roop/subscribers',\n",
       " 'subscription_url': 'https://api.github.com/repos/s0md3v/roop/subscription',\n",
       " 'commits_url': 'https://api.github.com/repos/s0md3v/roop/commits{/sha}',\n",
       " 'git_commits_url': 'https://api.github.com/repos/s0md3v/roop/git/commits{/sha}',\n",
       " 'comments_url': 'https://api.github.com/repos/s0md3v/roop/comments{/number}',\n",
       " 'issue_comment_url': 'https://api.github.com/repos/s0md3v/roop/issues/comments{/number}',\n",
       " 'contents_url': 'https://api.github.com/repos/s0md3v/roop/contents/{+path}',\n",
       " 'compare_url': 'https://api.github.com/repos/s0md3v/roop/compare/{base}...{head}',\n",
       " 'merges_url': 'https://api.github.com/repos/s0md3v/roop/merges',\n",
       " 'archive_url': 'https://api.github.com/repos/s0md3v/roop/{archive_format}{/ref}',\n",
       " 'downloads_url': 'https://api.github.com/repos/s0md3v/roop/downloads',\n",
       " 'issues_url': 'https://api.github.com/repos/s0md3v/roop/issues{/number}',\n",
       " 'pulls_url': 'https://api.github.com/repos/s0md3v/roop/pulls{/number}',\n",
       " 'milestones_url': 'https://api.github.com/repos/s0md3v/roop/milestones{/number}',\n",
       " 'notifications_url': 'https://api.github.com/repos/s0md3v/roop/notifications{?since,all,participating}',\n",
       " 'labels_url': 'https://api.github.com/repos/s0md3v/roop/labels{/name}',\n",
       " 'releases_url': 'https://api.github.com/repos/s0md3v/roop/releases{/id}',\n",
       " 'deployments_url': 'https://api.github.com/repos/s0md3v/roop/deployments',\n",
       " 'created_at': '2023-05-28T14:37:54Z',\n",
       " 'updated_at': '2023-06-16T00:27:25Z',\n",
       " 'pushed_at': '2023-06-15T21:09:01Z',\n",
       " 'git_url': 'git://github.com/s0md3v/roop.git',\n",
       " 'ssh_url': 'git@github.com:s0md3v/roop.git',\n",
       " 'clone_url': 'https://github.com/s0md3v/roop.git',\n",
       " 'svn_url': 'https://github.com/s0md3v/roop',\n",
       " 'homepage': '',\n",
       " 'size': 92901,\n",
       " 'stargazers_count': 10933,\n",
       " 'watchers_count': 10933,\n",
       " 'language': 'Python',\n",
       " 'has_issues': True,\n",
       " 'has_projects': True,\n",
       " 'has_downloads': True,\n",
       " 'has_wiki': True,\n",
       " 'has_pages': False,\n",
       " 'has_discussions': False,\n",
       " 'forks_count': 1493,\n",
       " 'mirror_url': None,\n",
       " 'archived': False,\n",
       " 'disabled': False,\n",
       " 'open_issues_count': 18,\n",
       " 'license': {'key': 'agpl-3.0',\n",
       "  'name': 'GNU Affero General Public License v3.0',\n",
       "  'spdx_id': 'AGPL-3.0',\n",
       "  'url': 'https://api.github.com/licenses/agpl-3.0',\n",
       "  'node_id': 'MDc6TGljZW5zZTE='},\n",
       " 'allow_forking': True,\n",
       " 'is_template': False,\n",
       " 'web_commit_signoff_required': False,\n",
       " 'topics': ['ai', 'deepfake', 'deepfakes', 'face-swap'],\n",
       " 'visibility': 'public',\n",
       " 'forks': 1493,\n",
       " 'open_issues': 18,\n",
       " 'watchers': 10933,\n",
       " 'default_branch': 'main',\n",
       " 'permissions': {'admin': False,\n",
       "  'maintain': False,\n",
       "  'push': False,\n",
       "  'triage': False,\n",
       "  'pull': True},\n",
       " 'score': 1.0}"
      ]
     },
     "execution_count": 9,
     "metadata": {},
     "output_type": "execute_result"
    }
   ],
   "source": [
    "resp['items'][0]"
   ]
  },
  {
   "cell_type": "code",
   "execution_count": null,
   "metadata": {},
   "outputs": [],
   "source": []
  }
 ],
 "metadata": {
  "kernelspec": {
   "display_name": "venv",
   "language": "python",
   "name": "python3"
  },
  "language_info": {
   "codemirror_mode": {
    "name": "ipython",
    "version": 3
   },
   "file_extension": ".py",
   "mimetype": "text/x-python",
   "name": "python",
   "nbconvert_exporter": "python",
   "pygments_lexer": "ipython3",
   "version": "3.10.1"
  },
  "orig_nbformat": 4
 },
 "nbformat": 4,
 "nbformat_minor": 2
}
